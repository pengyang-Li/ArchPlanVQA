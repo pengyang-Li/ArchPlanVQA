{
 "cells": [
  {
   "cell_type": "code",
   "execution_count": 2,
   "id": "54ce347b",
   "metadata": {},
   "outputs": [
    {
     "name": "stdout",
     "output_type": "stream",
     "text": [
      "字典已成功写入 evaluate_data_bool.json\n"
     ]
    }
   ],
   "source": [
    "import json\n",
    "import random\n",
    "import re\n",
    "def r_json(json_file):\n",
    "    # 打开JSON文件并读取数据\n",
    "    with open(json_file, 'r', encoding='utf-8') as file:\n",
    "        data = json.load(file)  # 返回Python字典或列表\n",
    "    return data\n",
    "cad_qa = r_json(\"/home/jupyter-lpy/project/target_detection/CAD_VQA/模型提示词测试/test_vqaceshi_dataset.json\")\n",
    "ans_ = r_json(\"llm_pred.json\")\n",
    "evaluate_data = {\n",
    "    \"number\":{\"real\":[],\"pred\":[]},\n",
    "    \"bool\":{\"real\":[],\"pred\":[]},\n",
    "    \"string\":{\"real\":[],\"pred\":[]}\n",
    "}\n",
    "for item_id, item_data in cad_qa.items():\n",
    "    evaluate_data[item_data[\"ans_type\"]][\"real\"].append(ans_[item_id][0][\"real\"])\n",
    "    evaluate_data[item_data[\"ans_type\"]][\"pred\"].append(ans_[item_id][0][\"pred\"])\n",
    "# 将字典写入JSON文件\n",
    "file_path=\"evaluate_data_bool.json\"\n",
    "with open(file_path, 'w', encoding='utf-8') as json_file:\n",
    "    json.dump(evaluate_data, json_file, ensure_ascii=False, indent=4)\n",
    " \n",
    "print(f\"字典已成功写入 {file_path}\")    \n",
    "       \n",
    " \n"
   ]
  }
 ],
 "metadata": {
  "kernelspec": {
   "display_name": "pytorch1_13",
   "language": "python",
   "name": "pytorch1_13"
  },
  "language_info": {
   "codemirror_mode": {
    "name": "ipython",
    "version": 3
   },
   "file_extension": ".py",
   "mimetype": "text/x-python",
   "name": "python",
   "nbconvert_exporter": "python",
   "pygments_lexer": "ipython3",
   "version": "3.9.18"
  }
 },
 "nbformat": 4,
 "nbformat_minor": 5
}
